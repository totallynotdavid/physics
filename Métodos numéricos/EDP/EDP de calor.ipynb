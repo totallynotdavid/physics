{
 "cells": [
  {
   "cell_type": "code",
   "execution_count": 7,
   "id": "3023c273",
   "metadata": {},
   "outputs": [],
   "source": [
    "import numpy as np\n",
    "import matplotlib.pyplot as plt\n",
    "import matplotlib.animation as animation"
   ]
  },
  {
   "cell_type": "code",
   "execution_count": 8,
   "id": "9efc0cd5",
   "metadata": {},
   "outputs": [
    {
     "name": "stdout",
     "output_type": "stream",
     "text": [
      "Condición cumplida\n"
     ]
    }
   ],
   "source": [
    "dt = 0.02\n",
    "dx = 1\n",
    "D=10\n",
    "gamma = 10*dt/dx**2\n",
    "if gamma<=.5:\n",
    "    print('Condición cumplida')\n",
    "else:\n",
    "    print(\"La solución será inestable\")"
   ]
  },
  {
   "cell_type": "code",
   "execution_count": 9,
   "id": "1fbd21d1",
   "metadata": {},
   "outputs": [],
   "source": [
    "x = np.arange(0,11,1)\n",
    "t = np.arange(0,2.02,.02)\n",
    "T = np.zeros((101,11))\n",
    "T[0,:]=0\n",
    "T[:,0]=0\n",
    "T[:,10]=100"
   ]
  },
  {
   "cell_type": "code",
   "execution_count": 10,
   "id": "fd39ed68",
   "metadata": {},
   "outputs": [],
   "source": [
    "for n in range(100):\n",
    "    for i in range(1,10):\n",
    "        T[n+1,i] = T[n,i] + gamma*(T[n,i-1]-2*T[n,i] +T[n,i+1])"
   ]
  },
  {
   "cell_type": "code",
   "execution_count": 11,
   "id": "59639a9a",
   "metadata": {},
   "outputs": [
    {
     "data": {
      "text/plain": [
       "[<matplotlib.lines.Line2D at 0x16694a94310>]"
      ]
     },
     "execution_count": 11,
     "metadata": {},
     "output_type": "execute_result"
    }
   ],
   "source": [
    "plt.plot(x,T[45,])"
   ]
  },
  {
   "cell_type": "code",
   "execution_count": 12,
   "id": "8bbeb175",
   "metadata": {},
   "outputs": [
    {
     "name": "stdout",
     "output_type": "stream",
     "text": [
      "Using matplotlib backend: Qt5Agg\n"
     ]
    }
   ],
   "source": [
    "# Animación\n",
    "%matplotlib auto\n",
    "fig=plt.figure()\n",
    "ax=fig.gca()\n",
    "def actualizar(i):\n",
    "    ax.clear()\n",
    "    plt.plot(x,T[i,])\n",
    "    plt.title('t='+str(round(t[i],3))+' s')\n",
    "#     plt.xlim(-l,l)\n",
    "#     plt.ylim(-l,0)\n",
    "ani=animation.FuncAnimation(fig,actualizar,range(len(t)))\n",
    "plt.show()"
   ]
  },
  {
   "cell_type": "code",
   "execution_count": null,
   "id": "9846065e",
   "metadata": {},
   "outputs": [],
   "source": []
  }
 ],
 "metadata": {
  "kernelspec": {
   "display_name": "Python 3 (ipykernel)",
   "language": "python",
   "name": "python3"
  },
  "language_info": {
   "codemirror_mode": {
    "name": "ipython",
    "version": 3
   },
   "file_extension": ".py",
   "mimetype": "text/x-python",
   "name": "python",
   "nbconvert_exporter": "python",
   "pygments_lexer": "ipython3",
   "version": "3.9.7"
  }
 },
 "nbformat": 4,
 "nbformat_minor": 5
}
